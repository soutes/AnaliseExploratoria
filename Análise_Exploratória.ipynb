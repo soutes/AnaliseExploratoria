{
  "nbformat": 4,
  "nbformat_minor": 0,
  "metadata": {
    "kernelspec": {
      "display_name": "Python 3",
      "language": "python",
      "name": "python3"
    },
    "language_info": {
      "codemirror_mode": {
        "name": "ipython",
        "version": 3
      },
      "file_extension": ".py",
      "mimetype": "text/x-python",
      "name": "python",
      "nbconvert_exporter": "python",
      "pygments_lexer": "ipython3",
      "version": "3.6.8"
    },
    "colab": {
      "name": "Análise Exploratória.ipynb",
      "provenance": []
    }
  },
  "cells": [
    {
      "cell_type": "markdown",
      "metadata": {
        "id": "p27wlDooZqcY"
      },
      "source": [
        "Utilziar recursos gráficos e bibliotecas são primordiais para uma análise de dados. \n",
        "Neste post, irei demostrar algumas das opções, sem se preocupar com o tratamento de dados e a aprendizado de máquina. Esses dois assuntos eu abordo em outros exercícios, confira os mesmos nos demais links do meu currículo.\n",
        "Para esta atividade utilizei as bibliotecas seaborn, pandas e matchplot."
      ]
    },
    {
      "cell_type": "code",
      "metadata": {
        "id": "Rp6D4NrOac_5",
        "colab": {
          "base_uri": "https://localhost:8080/",
          "height": 122
        },
        "outputId": "4c1ecd71-2748-49a2-ed49-ad253fe5e2ea"
      },
      "source": [
        "from google.colab import drive\n",
        "drive.mount('/content/drive')"
      ],
      "execution_count": null,
      "outputs": [
        {
          "output_type": "stream",
          "text": [
            "Go to this URL in a browser: https://accounts.google.com/o/oauth2/auth?client_id=947318989803-6bn6qk8qdgf4n4g3pfee6491hc0brc4i.apps.googleusercontent.com&redirect_uri=urn%3Aietf%3Awg%3Aoauth%3A2.0%3Aoob&scope=email%20https%3A%2F%2Fwww.googleapis.com%2Fauth%2Fdocs.test%20https%3A%2F%2Fwww.googleapis.com%2Fauth%2Fdrive%20https%3A%2F%2Fwww.googleapis.com%2Fauth%2Fdrive.photos.readonly%20https%3A%2F%2Fwww.googleapis.com%2Fauth%2Fpeopleapi.readonly&response_type=code\n",
            "\n",
            "Enter your authorization code:\n",
            "··········\n",
            "Mounted at /content/drive\n"
          ],
          "name": "stdout"
        }
      ]
    },
    {
      "cell_type": "markdown",
      "metadata": {
        "id": "1SqrhkKNZqca"
      },
      "source": [
        "Para esse exercício irei utilizar um banco de dados de uma campanha de um banco português que tem aproximadamente 41 mil linhas e 19 colunas.\n",
        "Esse dataset traz os registros pessoais dos clientes, como idade, profissão, educação entre outros, dados das campanha de telemarketing realizadas, como número de contatos, duração, alguns índices financeiros e a coluna target, que mostra se o cliente aderiu ou não a camapanha."
      ]
    },
    {
      "cell_type": "code",
      "metadata": {
        "id": "oJE4qnCzZqcb",
        "colab": {
          "base_uri": "https://localhost:8080/",
          "height": 17
        },
        "outputId": "3108bf8b-30bd-406e-a261-26db957075a0"
      },
      "source": [
        "import pandas as pd\n",
        "import seaborn as sns\n",
        "import plotly.offline as py\n",
        "import plotly.graph_objs as go\n",
        "py.init_notebook_mode(connected=True)\n",
        "\n",
        "%matplotlib inline\n",
        "import matplotlib.pyplot as plt"
      ],
      "execution_count": null,
      "outputs": [
        {
          "output_type": "display_data",
          "data": {
            "text/vnd.plotly.v1+html": "<script type=\"text/javascript\">window.PlotlyConfig = {MathJaxConfig: 'local'};</script><script type=\"text/javascript\">if (window.MathJax) {MathJax.Hub.Config({SVG: {font: \"STIX-Web\"}});}</script><script>requirejs.config({paths: { 'plotly': ['https://cdn.plot.ly/plotly-latest.min']},});if(!window._Plotly) {require(['plotly'],function(plotly) {window._Plotly=plotly;});}</script>",
            "text/html": [
              "<script type=\"text/javascript\">window.PlotlyConfig = {MathJaxConfig: 'local'};</script><script type=\"text/javascript\">if (window.MathJax) {MathJax.Hub.Config({SVG: {font: \"STIX-Web\"}});}</script><script>requirejs.config({paths: { 'plotly': ['https://cdn.plot.ly/plotly-latest.min']},});if(!window._Plotly) {require(['plotly'],function(plotly) {window._Plotly=plotly;});}</script>"
            ]
          },
          "metadata": {
            "tags": []
          }
        }
      ]
    },
    {
      "cell_type": "code",
      "metadata": {
        "id": "J4NbBFzOgvfO"
      },
      "source": [
        "dataset = pd.read_csv('/content/drive/My Drive/Colab Notebooks/callcenter_marketing.csv')"
      ],
      "execution_count": null,
      "outputs": []
    },
    {
      "cell_type": "code",
      "metadata": {
        "id": "hD9esCgrZqcf",
        "colab": {
          "base_uri": "https://localhost:8080/",
          "height": 34
        },
        "outputId": "078c26c5-622c-4b29-b60c-bfb40d4b8bea"
      },
      "source": [
        "dataset.shape"
      ],
      "execution_count": null,
      "outputs": [
        {
          "output_type": "execute_result",
          "data": {
            "text/plain": [
              "(41188, 19)"
            ]
          },
          "metadata": {
            "tags": []
          },
          "execution_count": 3
        }
      ]
    },
    {
      "cell_type": "code",
      "metadata": {
        "id": "In2S_SvJZqci",
        "colab": {
          "base_uri": "https://localhost:8080/",
          "height": 357
        },
        "outputId": "e870bc84-17d5-47d9-b83d-d2dee88cc028"
      },
      "source": [
        "#Apenas para não comprometer os resultados da visualização, vamos verificar e remover os dados faltantes:\n",
        "dataset.isnull().sum()"
      ],
      "execution_count": null,
      "outputs": [
        {
          "output_type": "execute_result",
          "data": {
            "text/plain": [
              "idade                             0\n",
              "profissao                       330\n",
              "estado_civil                     80\n",
              "educacao                       1731\n",
              "inadimplente                   8597\n",
              "emprestimo_moradia              990\n",
              "emprestimo_pessoal              990\n",
              "meio_contato                      0\n",
              "mes                               0\n",
              "dia_da_semana                     0\n",
              "duracao                           0\n",
              "qtd_contatos_campanha             0\n",
              "dias_ultimo_contato               0\n",
              "qtd_contatos_total                0\n",
              "campanha_anterior                 0\n",
              "indice_precos_consumidor          0\n",
              "indice_confianca_consumidor       0\n",
              "euribor3m                         0\n",
              "resultado                         0\n",
              "dtype: int64"
            ]
          },
          "metadata": {
            "tags": []
          },
          "execution_count": 16
        }
      ]
    },
    {
      "cell_type": "code",
      "metadata": {
        "id": "_TPCQYx8bnQI"
      },
      "source": [
        "dataset.dropna(inplace=True)"
      ],
      "execution_count": null,
      "outputs": []
    },
    {
      "cell_type": "code",
      "metadata": {
        "id": "U89-eZ8qb5YG",
        "colab": {
          "base_uri": "https://localhost:8080/",
          "height": 357
        },
        "outputId": "ed24f179-6454-4ba0-b1bb-ed82f3ca0463"
      },
      "source": [
        "dataset.isnull().sum()"
      ],
      "execution_count": null,
      "outputs": [
        {
          "output_type": "execute_result",
          "data": {
            "text/plain": [
              "idade                          0\n",
              "profissao                      0\n",
              "estado_civil                   0\n",
              "educacao                       0\n",
              "inadimplente                   0\n",
              "emprestimo_moradia             0\n",
              "emprestimo_pessoal             0\n",
              "meio_contato                   0\n",
              "mes                            0\n",
              "dia_da_semana                  0\n",
              "duracao                        0\n",
              "qtd_contatos_campanha          0\n",
              "dias_ultimo_contato            0\n",
              "qtd_contatos_total             0\n",
              "campanha_anterior              0\n",
              "indice_precos_consumidor       0\n",
              "indice_confianca_consumidor    0\n",
              "euribor3m                      0\n",
              "resultado                      0\n",
              "dtype: int64"
            ]
          },
          "metadata": {
            "tags": []
          },
          "execution_count": 18
        }
      ]
    },
    {
      "cell_type": "markdown",
      "metadata": {
        "id": "KxjsJ13_cNlZ"
      },
      "source": [
        "Após essa solução rápida, que não é a mais indicada, podemos começar a explorar os dados através dos gráficos:\n"
      ]
    },
    {
      "cell_type": "markdown",
      "metadata": {
        "id": "_P4EPiJWfzJM"
      },
      "source": [
        "Nessa primeira parte, utilizarei a biblioteca Seaborn. Esta é baseada na famosa Matchplot e seus resultados são apresentados por intarface atraentes e de fácil compreensão."
      ]
    },
    {
      "cell_type": "code",
      "metadata": {
        "id": "69TDrTWEZqdB",
        "colab": {
          "base_uri": "https://localhost:8080/",
          "height": 423
        },
        "outputId": "338e4f98-01ee-4ab1-e581-c5ac1919642e"
      },
      "source": [
        "sns.heatmap(dataset.corr())"
      ],
      "execution_count": null,
      "outputs": [
        {
          "output_type": "execute_result",
          "data": {
            "text/plain": [
              "<matplotlib.axes._subplots.AxesSubplot at 0x7f96bba2f4e0>"
            ]
          },
          "metadata": {
            "tags": []
          },
          "execution_count": 19
        },
        {
          "output_type": "display_data",
          "data": {
            "image/png": "[encoded data removed]",
            "text/plain": [
              "<Figure size 432x288 with 2 Axes>"
            ]
          },
          "metadata": {
            "tags": []
          }
        }
      ]
    },
    {
      "cell_type": "code",
      "metadata": {
        "id": "RUTxkJr6ZqdC",
        "colab": {
          "base_uri": "https://localhost:8080/",
          "height": 380
        },
        "outputId": "dd1fc77b-20ee-4472-f207-53f383ed6ab3"
      },
      "source": [
        "dataset.educacao.value_counts().plot.bar()"
      ],
      "execution_count": null,
      "outputs": [
        {
          "output_type": "execute_result",
          "data": {
            "text/plain": [
              "<matplotlib.axes._subplots.AxesSubplot at 0x7f96bb943ac8>"
            ]
          },
          "metadata": {
            "tags": []
          },
          "execution_count": 21
        },
        {
          "output_type": "display_data",
          "data": {
            "image/png": "[encoded data removed]",
            "text/plain": [
              "<Figure size 432x288 with 1 Axes>"
            ]
          },
          "metadata": {
            "tags": []
          }
        }
      ]
    },
    {
      "cell_type": "code",
      "metadata": {
        "id": "OxDapF_LZqdH",
        "colab": {
          "base_uri": "https://localhost:8080/",
          "height": 405
        },
        "outputId": "666af718-2359-4821-ad54-5dc8f3eee4b4"
      },
      "source": [
        "plt.boxplot(dataset.idade)"
      ],
      "execution_count": null,
      "outputs": [
        {
          "output_type": "execute_result",
          "data": {
            "text/plain": [
              "{'boxes': [<matplotlib.lines.Line2D at 0x7f96bb8504a8>],\n",
              " 'caps': [<matplotlib.lines.Line2D at 0x7f96bb850cc0>,\n",
              "  <matplotlib.lines.Line2D at 0x7f96bb85d048>],\n",
              " 'fliers': [<matplotlib.lines.Line2D at 0x7f96bb85d6d8>],\n",
              " 'means': [],\n",
              " 'medians': [<matplotlib.lines.Line2D at 0x7f96bb85d390>],\n",
              " 'whiskers': [<matplotlib.lines.Line2D at 0x7f96bb850630>,\n",
              "  <matplotlib.lines.Line2D at 0x7f96bb850978>]}"
            ]
          },
          "metadata": {
            "tags": []
          },
          "execution_count": 22
        },
        {
          "output_type": "display_data",
          "data": {
            "image/png": "[encoded data removed]",
            "text/plain": [
              "<Figure size 432x288 with 1 Axes>"
            ]
          },
          "metadata": {
            "tags": []
          }
        }
      ]
    },
    {
      "cell_type": "code",
      "metadata": {
        "id": "Vkdde_ZehFd2",
        "outputId": "1030b7c7-2887-40a5-89f3-a8ccfeb4c397"
      },
      "source": [
        "Outliers = dataset[dataset.idade>70]\n",
        "Estado_civil = Outliers['estado_civil'].value_counts()/Outliers.shape[0]\n",
        "Estado_civil.plot.bar()\n",
        "plt.show()\n",
        "Inliers = dataset[dataset.idade<=70]\n",
        "Estado_civil_Inliers = Inliers['estado_civil'].value_counts()/Inliers.shape[0]\n",
        "Estado_civil_Inliers.plot.bar()"
      ],
      "execution_count": null,
      "outputs": [
        {
          "output_type": "display_data",
          "data": {
            "image/png": "[encoded data removed]",
            "text/plain": [
              "<Figure size 432x288 with 1 Axes>"
            ]
          },
          "metadata": {
            "tags": [],
            "needs_background": "light"
          }
        },
        {
          "output_type": "execute_result",
          "data": {
            "text/plain": [
              "<matplotlib.axes._subplots.AxesSubplot at 0x7f20f464e5f8>"
            ]
          },
          "metadata": {
            "tags": []
          },
          "execution_count": 18
        },
        {
          "output_type": "display_data",
          "data": {
            "image/png": "[encoded data removed]",
            "text/plain": [
              "<Figure size 432x288 with 1 Axes>"
            ]
          },
          "metadata": {
            "tags": [],
            "needs_background": "light"
          }
        }
      ]
    },
    {
      "cell_type": "code",
      "metadata": {
        "id": "Qqjhx1HThFKQ",
        "outputId": "6aa1e98c-ed3f-4c7e-8ddf-f73552f06d04"
      },
      "source": [
        "Inliers.y.value_counts()"
      ],
      "execution_count": null,
      "outputs": [
        {
          "output_type": "execute_result",
          "data": {
            "text/plain": [
              "no     36328\n",
              "yes     4438\n",
              "Name: y, dtype: int64"
            ]
          },
          "metadata": {
            "tags": []
          },
          "execution_count": 88
        }
      ]
    },
    {
      "cell_type": "code",
      "metadata": {
        "id": "4eqO6gXbZqdQ",
        "outputId": "d4c13b44-942e-4260-ea34-078cc1676756"
      },
      "source": [
        "Trabalho_Outliers = Outliers['job'].value_counts().plot.bar()\n",
        "plt.show()\n",
        "Trabalho_Inliers = Inliers['job'].value_counts().plot.bar()"
      ],
      "execution_count": null,
      "outputs": [
        {
          "output_type": "display_data",
          "data": {
            "image/png": "[encoded data removed]",
            "text/plain": [
              "<Figure size 432x288 with 1 Axes>"
            ]
          },
          "metadata": {
            "tags": []
          }
        },
        {
          "output_type": "display_data",
          "data": {
            "image/png": "[encoded data removed]",
            "text/plain": [
              "<Figure size 432x288 with 1 Axes>"
            ]
          },
          "metadata": {
            "tags": []
          }
        }
      ]
    },
    {
      "cell_type": "code",
      "metadata": {
        "id": "0RNi7KGGZqdS",
        "outputId": "e21318a2-c672-489c-8153-ba7e7100fd85"
      },
      "source": [
        "Educação[7]"
      ],
      "execution_count": null,
      "outputs": [
        {
          "output_type": "execute_result",
          "data": {
            "text/plain": [
              "'illiterate'"
            ]
          },
          "metadata": {
            "tags": []
          },
          "execution_count": 92
        }
      ]
    },
    {
      "cell_type": "code",
      "metadata": {
        "id": "Z8gktFtZZqdU",
        "colab": {
          "base_uri": "https://localhost:8080/",
          "height": 286
        },
        "outputId": "5478fc66-0ee5-474f-bf28-64c038b22911"
      },
      "source": [
        "Educação = dataset.educacao.unique()\n",
        "data = []\n",
        "for E in Educação:\n",
        "    dados = dataset[dataset.educacao==E]['idade']\n",
        "    data.append(dados)\n",
        "sns.boxplot( data=data,palette=\"Set1\")"
      ],
      "execution_count": null,
      "outputs": [
        {
          "output_type": "execute_result",
          "data": {
            "text/plain": [
              "<matplotlib.axes._subplots.AxesSubplot at 0x7f96bb801cc0>"
            ]
          },
          "metadata": {
            "tags": []
          },
          "execution_count": 23
        },
        {
          "output_type": "display_data",
          "data": {
            "image/png": "[encoded data removed]",
            "text/plain": [
              "<Figure size 432x288 with 1 Axes>"
            ]
          },
          "metadata": {
            "tags": []
          }
        }
      ]
    },
    {
      "cell_type": "code",
      "metadata": {
        "scrolled": true,
        "id": "6G-_wfYgZqdW",
        "colab": {
          "base_uri": "https://localhost:8080/",
          "height": 286
        },
        "outputId": "9e07836f-4e40-4c87-ff76-ae6d6cb82fbf"
      },
      "source": [
        "x=dataset.idade\n",
        "y=dataset.duracao\n",
        "plt.scatter(x,y)"
      ],
      "execution_count": null,
      "outputs": [
        {
          "output_type": "execute_result",
          "data": {
            "text/plain": [
              "<matplotlib.collections.PathCollection at 0x7f96bb6ffc18>"
            ]
          },
          "metadata": {
            "tags": []
          },
          "execution_count": 24
        },
        {
          "output_type": "display_data",
          "data": {
            "image/png": "[encoded data removed]",
            "text/plain": [
              "<Figure size 432x288 with 1 Axes>"
            ]
          },
          "metadata": {
            "tags": []
          }
        }
      ]
    },
    {
      "cell_type": "code",
      "metadata": {
        "id": "hp8w-A66ZqdY",
        "colab": {
          "base_uri": "https://localhost:8080/",
          "height": 286
        },
        "outputId": "4f8f0d8a-2f6f-4110-9491-80bc40a78aa5"
      },
      "source": [
        "y = dataset['euribor3m']\n",
        "x=dataset.indice_confianca_consumidor\n",
        "plt.scatter(x,y)"
      ],
      "execution_count": null,
      "outputs": [
        {
          "output_type": "execute_result",
          "data": {
            "text/plain": [
              "<matplotlib.collections.PathCollection at 0x7f96bb6e4438>"
            ]
          },
          "metadata": {
            "tags": []
          },
          "execution_count": 25
        },
        {
          "output_type": "display_data",
          "data": {
            "image/png": "[encoded data removed]",
            "text/plain": [
              "<Figure size 432x288 with 1 Axes>"
            ]
          },
          "metadata": {
            "tags": []
          }
        }
      ]
    },
    {
      "cell_type": "code",
      "metadata": {
        "id": "3WZfSdrrZqda",
        "outputId": "48892d9d-b369-4961-e11e-02932d9388e8"
      },
      "source": [
        ""
      ],
      "execution_count": null,
      "outputs": [
        {
          "output_type": "execute_result",
          "data": {
            "text/plain": [
              "<matplotlib.collections.PathCollection at 0x19a82129cf8>"
            ]
          },
          "metadata": {
            "tags": []
          },
          "execution_count": 146
        },
        {
          "output_type": "display_data",
          "data": {
            "image/png": "[encoded data removed]",
            "text/plain": [
              "<Figure size 432x288 with 1 Axes>"
            ]
          },
          "metadata": {
            "tags": []
          }
        }
      ]
    },
    {
      "cell_type": "code",
      "metadata": {
        "id": "frEcSE1mZqdb",
        "outputId": "1a3a707c-b4aa-4b64-9040-7d3e7597dd03"
      },
      "source": [
        "pd.crosstab(dataset.educacao,dataset.estado_civil, margins=True)"
      ],
      "execution_count": null,
      "outputs": [
        {
          "output_type": "execute_result",
          "data": {
            "text/html": [
              "<div>\n",
              "<style scoped>\n",
              "    .dataframe tbody tr th:only-of-type {\n",
              "        vertical-align: middle;\n",
              "    }\n",
              "\n",
              "    .dataframe tbody tr th {\n",
              "        vertical-align: top;\n",
              "    }\n",
              "\n",
              "    .dataframe thead th {\n",
              "        text-align: right;\n",
              "    }\n",
              "</style>\n",
              "<table border=\"1\" class=\"dataframe\">\n",
              "  <thead>\n",
              "    <tr style=\"text-align: right;\">\n",
              "      <th>estado_civil</th>\n",
              "      <th>casado</th>\n",
              "      <th>divorciado</th>\n",
              "      <th>solteiro</th>\n",
              "      <th>All</th>\n",
              "    </tr>\n",
              "    <tr>\n",
              "      <th>educacao</th>\n",
              "      <th></th>\n",
              "      <th></th>\n",
              "      <th></th>\n",
              "      <th></th>\n",
              "    </tr>\n",
              "  </thead>\n",
              "  <tbody>\n",
              "    <tr>\n",
              "      <th>analfabeto</th>\n",
              "      <td>15</td>\n",
              "      <td>2</td>\n",
              "      <td>1</td>\n",
              "      <td>18</td>\n",
              "    </tr>\n",
              "    <tr>\n",
              "      <th>curso_tecnico</th>\n",
              "      <td>3156</td>\n",
              "      <td>657</td>\n",
              "      <td>1424</td>\n",
              "      <td>5237</td>\n",
              "    </tr>\n",
              "    <tr>\n",
              "      <th>ensino_medio</th>\n",
              "      <td>5158</td>\n",
              "      <td>1193</td>\n",
              "      <td>3150</td>\n",
              "      <td>9501</td>\n",
              "    </tr>\n",
              "    <tr>\n",
              "      <th>fundamental_4a</th>\n",
              "      <td>3228</td>\n",
              "      <td>489</td>\n",
              "      <td>453</td>\n",
              "      <td>4170</td>\n",
              "    </tr>\n",
              "    <tr>\n",
              "      <th>fundamental_6a</th>\n",
              "      <td>1767</td>\n",
              "      <td>182</td>\n",
              "      <td>337</td>\n",
              "      <td>2286</td>\n",
              "    </tr>\n",
              "    <tr>\n",
              "      <th>fundamental_9a</th>\n",
              "      <td>4156</td>\n",
              "      <td>565</td>\n",
              "      <td>1316</td>\n",
              "      <td>6037</td>\n",
              "    </tr>\n",
              "    <tr>\n",
              "      <th>graduacao_completa</th>\n",
              "      <td>6394</td>\n",
              "      <td>1337</td>\n",
              "      <td>4406</td>\n",
              "      <td>12137</td>\n",
              "    </tr>\n",
              "    <tr>\n",
              "      <th>All</th>\n",
              "      <td>23874</td>\n",
              "      <td>4425</td>\n",
              "      <td>11087</td>\n",
              "      <td>39386</td>\n",
              "    </tr>\n",
              "  </tbody>\n",
              "</table>\n",
              "</div>"
            ],
            "text/plain": [
              "estado_civil        casado  divorciado  solteiro    All\n",
              "educacao                                               \n",
              "analfabeto              15           2         1     18\n",
              "curso_tecnico         3156         657      1424   5237\n",
              "ensino_medio          5158        1193      3150   9501\n",
              "fundamental_4a        3228         489       453   4170\n",
              "fundamental_6a        1767         182       337   2286\n",
              "fundamental_9a        4156         565      1316   6037\n",
              "graduacao_completa    6394        1337      4406  12137\n",
              "All                  23874        4425     11087  39386"
            ]
          },
          "metadata": {
            "tags": []
          },
          "execution_count": 29
        }
      ]
    }
  ]
}